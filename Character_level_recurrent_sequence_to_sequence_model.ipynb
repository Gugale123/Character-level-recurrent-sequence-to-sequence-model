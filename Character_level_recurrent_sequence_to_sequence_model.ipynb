{
  "nbformat": 4,
  "nbformat_minor": 0,
  "metadata": {
    "colab": {
      "name": "Character-level recurrent sequence-to-sequence model.ipynb",
      "provenance": [],
      "collapsed_sections": [],
      "authorship_tag": "ABX9TyPdTyhDZcrxu7GqYZf4Qkff",
      "include_colab_link": true
    },
    "kernelspec": {
      "name": "python3",
      "display_name": "Python 3"
    },
    "language_info": {
      "name": "python"
    },
    "accelerator": "GPU"
  },
  "cells": [
    {
      "cell_type": "markdown",
      "metadata": {
        "id": "view-in-github",
        "colab_type": "text"
      },
      "source": [
        "<a href=\"https://colab.research.google.com/github/Gugale123/Character-level-recurrent-sequence-to-sequence-model/blob/main/Character_level_recurrent_sequence_to_sequence_model.ipynb\" target=\"_parent\"><img src=\"https://colab.research.google.com/assets/colab-badge.svg\" alt=\"Open In Colab\"/></a>"
      ]
    },
    {
      "cell_type": "markdown",
      "metadata": {
        "id": "YLPapkpwfjlN"
      },
      "source": [
        "# Setup"
      ]
    },
    {
      "cell_type": "code",
      "metadata": {
        "id": "cjyvN_BsfgkY"
      },
      "source": [
        "from keras.models import Model\n",
        "from keras.layers import Input, LSTM, Dense\n",
        "import numpy as np\n",
        "from tensorflow import keras\n"
      ],
      "execution_count": null,
      "outputs": []
    },
    {
      "cell_type": "markdown",
      "metadata": {
        "id": "kHky742ofyHc"
      },
      "source": [
        "# Configuration"
      ]
    },
    {
      "cell_type": "code",
      "metadata": {
        "id": "x6Ez0uO1bJCU"
      },
      "source": [
        "batch_size = 64  # Batch size for training.\n",
        "epochs = 100  # Number of epochs to train for.\n",
        "latent_dim = 256  # Latent dimensionality of the encoding space.\n",
        "num_samples = 10000  # Number of samples to train on.\n",
        "# Path to the data txt file on disk.\n",
        "data_path = \"/content/fra.txt\"\n"
      ],
      "execution_count": 2,
      "outputs": []
    },
    {
      "cell_type": "markdown",
      "metadata": {
        "id": "1Cpka5Mnf5XT"
      },
      "source": [
        "# Prepare the data"
      ]
    },
    {
      "cell_type": "code",
      "metadata": {
        "id": "T01b4ThIcfcw"
      },
      "source": [
        "input_texts = []\n",
        "target_texts = []\n",
        "input_characters = set()\n",
        "target_characters = set()\n",
        "with open(data_path, \"r\", encoding=\"utf-8\") as f:\n",
        "    lines = f.read().split(\"\\n\")\n",
        "for line in lines[: min(num_samples, len(lines) - 1)]:\n",
        "    input_text, target_text, _ = line.split(\"\\t\")\n",
        "    # We use \"tab\" as the \"start sequence\" character\n",
        "    # for the targets, and \"\\n\" as \"end sequence\" character.\n",
        "    target_text = \"\\t\" + target_text + \"\\n\"\n",
        "    input_texts.append(input_text)\n",
        "    target_texts.append(target_text)\n",
        "    for char in input_text:\n",
        "        if char not in input_characters:\n",
        "            input_characters.add(char)\n",
        "    for char in target_text:\n",
        "        if char not in target_characters:\n",
        "            target_characters.add(char)\n"
      ],
      "execution_count": 3,
      "outputs": []
    },
    {
      "cell_type": "code",
      "metadata": {
        "colab": {
          "base_uri": "https://localhost:8080/"
        },
        "id": "8nLNjLtzcmQ9",
        "outputId": "e7e580c9-5416-4aaa-8342-4f743016247d"
      },
      "source": [
        "input_characters = sorted(list(input_characters))\n",
        "target_characters = sorted(list(target_characters))\n",
        "num_encoder_tokens = len(input_characters)\n",
        "num_decoder_tokens = len(target_characters)\n",
        "max_encoder_seq_length = max([len(txt) for txt in input_texts])\n",
        "max_decoder_seq_length = max([len(txt) for txt in target_texts])\n",
        "\n",
        "print(\"Number of samples:\", len(input_texts))\n",
        "print(\"Number of unique input tokens:\", num_encoder_tokens)\n",
        "print(\"Number of unique output tokens:\", num_decoder_tokens)\n",
        "print(\"Max sequence length for inputs:\", max_encoder_seq_length)\n",
        "print(\"Max sequence length for outputs:\", max_decoder_seq_length)\n",
        "\n"
      ],
      "execution_count": 4,
      "outputs": [
        {
          "output_type": "stream",
          "text": [
            "Number of samples: 10000\n",
            "Number of unique input tokens: 71\n",
            "Number of unique output tokens: 93\n",
            "Max sequence length for inputs: 15\n",
            "Max sequence length for outputs: 59\n"
          ],
          "name": "stdout"
        }
      ]
    },
    {
      "cell_type": "code",
      "metadata": {
        "id": "bxJ5S3zNc11J"
      },
      "source": [
        "input_token_index = dict([(char, i) for i, char in enumerate(input_characters)])\n",
        "target_token_index = dict([(char, i) for i, char in enumerate(target_characters)])\n",
        "\n",
        "encoder_input_data = np.zeros(\n",
        "    (len(input_texts), max_encoder_seq_length, num_encoder_tokens), dtype=\"float32\"\n",
        ")\n",
        "decoder_input_data = np.zeros(\n",
        "    (len(input_texts), max_decoder_seq_length, num_decoder_tokens), dtype=\"float32\"\n",
        ")\n",
        "decoder_target_data = np.zeros(\n",
        "    (len(input_texts), max_decoder_seq_length, num_decoder_tokens), dtype=\"float32\"\n",
        ")\n",
        "\n",
        "for i, (input_text, target_text) in enumerate(zip(input_texts, target_texts)):\n",
        "    for t, char in enumerate(input_text):\n",
        "        encoder_input_data[i, t, input_token_index[char]] = 1.0\n",
        "    encoder_input_data[i, t + 1 :, input_token_index[\" \"]] = 1.0\n",
        "    for t, char in enumerate(target_text):\n",
        "        # decoder_target_data is ahead of decoder_input_data by one timestep\n",
        "        decoder_input_data[i, t, target_token_index[char]] = 1.0\n",
        "        if t > 0:\n",
        "            # decoder_target_data will be ahead by one timestep\n",
        "            # and will not include the start character.\n",
        "            decoder_target_data[i, t - 1, target_token_index[char]] = 1.0\n",
        "    decoder_input_data[i, t + 1 :, target_token_index[\" \"]] = 1.0\n",
        "    decoder_target_data[i, t:, target_token_index[\" \"]] = 1.0"
      ],
      "execution_count": 5,
      "outputs": []
    },
    {
      "cell_type": "markdown",
      "metadata": {
        "id": "HO5VpdJtgEVE"
      },
      "source": [
        "# Build the model"
      ]
    },
    {
      "cell_type": "code",
      "metadata": {
        "id": "RNJW_97yc7dD"
      },
      "source": [
        "# Define an input sequence and process it.\n",
        "encoder_inputs = keras.Input(shape=(None, num_encoder_tokens))\n",
        "encoder = keras.layers.LSTM(latent_dim, return_state=True)\n",
        "encoder_outputs, state_h, state_c = encoder(encoder_inputs)\n",
        "\n",
        "# We discard `encoder_outputs` and only keep the states.\n",
        "encoder_states = [state_h, state_c]\n",
        "\n",
        "# Set up the decoder, using `encoder_states` as initial state.\n",
        "decoder_inputs = keras.Input(shape=(None, num_decoder_tokens))\n",
        "\n",
        "# We set up our decoder to return full output sequences,\n",
        "# and to return internal states as well. We don't use the\n",
        "# return states in the training model, but we will use them in inference.\n",
        "decoder_lstm = keras.layers.LSTM(latent_dim, return_sequences=True, return_state=True)\n",
        "decoder_outputs, _, _ = decoder_lstm(decoder_inputs, initial_state=encoder_states)\n",
        "decoder_dense = keras.layers.Dense(num_decoder_tokens, activation=\"softmax\")\n",
        "decoder_outputs = decoder_dense(decoder_outputs)\n",
        "\n",
        "# Define the model that will turn\n",
        "# `encoder_input_data` & `decoder_input_data` into `decoder_target_data`\n",
        "model = keras.Model([encoder_inputs, decoder_inputs], decoder_outputs)"
      ],
      "execution_count": 8,
      "outputs": []
    },
    {
      "cell_type": "markdown",
      "metadata": {
        "id": "xmxi5CYNgJNw"
      },
      "source": [
        "# Train the model"
      ]
    },
    {
      "cell_type": "code",
      "metadata": {
        "colab": {
          "base_uri": "https://localhost:8080/"
        },
        "id": "KeKAgY23dN0h",
        "outputId": "6b9e13e9-41cc-47d3-a42d-1dc9bcb814fe"
      },
      "source": [
        "model.compile(\n",
        "    optimizer=\"rmsprop\", loss=\"categorical_crossentropy\", metrics=[\"accuracy\"]\n",
        ")\n",
        "model.fit(\n",
        "    [encoder_input_data, decoder_input_data],\n",
        "    decoder_target_data,\n",
        "    batch_size=batch_size,\n",
        "    epochs=epochs,\n",
        "    validation_split=0.2,\n",
        ")\n",
        "# Save model\n",
        "model.save(\"s2s\")"
      ],
      "execution_count": 9,
      "outputs": [
        {
          "output_type": "stream",
          "text": [
            "Epoch 1/100\n",
            "125/125 [==============================] - 13s 44ms/step - loss: 1.1715 - accuracy: 0.7328 - val_loss: 1.0461 - val_accuracy: 0.7134\n",
            "Epoch 2/100\n",
            "125/125 [==============================] - 4s 34ms/step - loss: 0.8410 - accuracy: 0.7718 - val_loss: 0.8419 - val_accuracy: 0.7661\n",
            "Epoch 3/100\n",
            "125/125 [==============================] - 4s 34ms/step - loss: 0.6788 - accuracy: 0.8104 - val_loss: 0.7341 - val_accuracy: 0.7897\n",
            "Epoch 4/100\n",
            "125/125 [==============================] - 4s 34ms/step - loss: 0.5921 - accuracy: 0.8286 - val_loss: 0.6494 - val_accuracy: 0.8107\n",
            "Epoch 5/100\n",
            "125/125 [==============================] - 4s 34ms/step - loss: 0.5399 - accuracy: 0.8418 - val_loss: 0.6128 - val_accuracy: 0.8194\n",
            "Epoch 6/100\n",
            "125/125 [==============================] - 4s 34ms/step - loss: 0.5025 - accuracy: 0.8522 - val_loss: 0.5701 - val_accuracy: 0.8328\n",
            "Epoch 7/100\n",
            "125/125 [==============================] - 4s 34ms/step - loss: 0.4721 - accuracy: 0.8602 - val_loss: 0.5514 - val_accuracy: 0.8371\n",
            "Epoch 8/100\n",
            "125/125 [==============================] - 4s 34ms/step - loss: 0.4471 - accuracy: 0.8672 - val_loss: 0.5248 - val_accuracy: 0.8447\n",
            "Epoch 9/100\n",
            "125/125 [==============================] - 4s 34ms/step - loss: 0.4250 - accuracy: 0.8733 - val_loss: 0.5120 - val_accuracy: 0.8488\n",
            "Epoch 10/100\n",
            "125/125 [==============================] - 4s 34ms/step - loss: 0.4059 - accuracy: 0.8786 - val_loss: 0.4981 - val_accuracy: 0.8534\n",
            "Epoch 11/100\n",
            "125/125 [==============================] - 4s 34ms/step - loss: 0.3884 - accuracy: 0.8837 - val_loss: 0.4890 - val_accuracy: 0.8558\n",
            "Epoch 12/100\n",
            "125/125 [==============================] - 4s 34ms/step - loss: 0.3721 - accuracy: 0.8884 - val_loss: 0.4832 - val_accuracy: 0.8572\n",
            "Epoch 13/100\n",
            "125/125 [==============================] - 4s 34ms/step - loss: 0.3571 - accuracy: 0.8926 - val_loss: 0.4730 - val_accuracy: 0.8600\n",
            "Epoch 14/100\n",
            "125/125 [==============================] - 4s 34ms/step - loss: 0.3432 - accuracy: 0.8966 - val_loss: 0.4660 - val_accuracy: 0.8636\n",
            "Epoch 15/100\n",
            "125/125 [==============================] - 4s 34ms/step - loss: 0.3300 - accuracy: 0.9008 - val_loss: 0.4596 - val_accuracy: 0.8665\n",
            "Epoch 16/100\n",
            "125/125 [==============================] - 4s 34ms/step - loss: 0.3178 - accuracy: 0.9042 - val_loss: 0.4616 - val_accuracy: 0.8665\n",
            "Epoch 17/100\n",
            "125/125 [==============================] - 4s 35ms/step - loss: 0.3060 - accuracy: 0.9079 - val_loss: 0.4554 - val_accuracy: 0.8688\n",
            "Epoch 18/100\n",
            "125/125 [==============================] - 4s 35ms/step - loss: 0.2949 - accuracy: 0.9110 - val_loss: 0.4493 - val_accuracy: 0.8700\n",
            "Epoch 19/100\n",
            "125/125 [==============================] - 4s 34ms/step - loss: 0.2838 - accuracy: 0.9147 - val_loss: 0.4502 - val_accuracy: 0.8712\n",
            "Epoch 20/100\n",
            "125/125 [==============================] - 5s 37ms/step - loss: 0.2736 - accuracy: 0.9177 - val_loss: 0.4528 - val_accuracy: 0.8705\n",
            "Epoch 21/100\n",
            "125/125 [==============================] - 4s 35ms/step - loss: 0.2636 - accuracy: 0.9206 - val_loss: 0.4493 - val_accuracy: 0.8721\n",
            "Epoch 22/100\n",
            "125/125 [==============================] - 4s 35ms/step - loss: 0.2544 - accuracy: 0.9233 - val_loss: 0.4502 - val_accuracy: 0.8722\n",
            "Epoch 23/100\n",
            "125/125 [==============================] - 4s 34ms/step - loss: 0.2452 - accuracy: 0.9262 - val_loss: 0.4510 - val_accuracy: 0.8731\n",
            "Epoch 24/100\n",
            "125/125 [==============================] - 4s 34ms/step - loss: 0.2363 - accuracy: 0.9286 - val_loss: 0.4528 - val_accuracy: 0.8734\n",
            "Epoch 25/100\n",
            "125/125 [==============================] - 4s 34ms/step - loss: 0.2282 - accuracy: 0.9312 - val_loss: 0.4599 - val_accuracy: 0.8722\n",
            "Epoch 26/100\n",
            "125/125 [==============================] - 4s 34ms/step - loss: 0.2203 - accuracy: 0.9332 - val_loss: 0.4561 - val_accuracy: 0.8735\n",
            "Epoch 27/100\n",
            "125/125 [==============================] - 4s 34ms/step - loss: 0.2128 - accuracy: 0.9353 - val_loss: 0.4568 - val_accuracy: 0.8743\n",
            "Epoch 28/100\n",
            "125/125 [==============================] - 4s 34ms/step - loss: 0.2057 - accuracy: 0.9376 - val_loss: 0.4597 - val_accuracy: 0.8738\n",
            "Epoch 29/100\n",
            "125/125 [==============================] - 4s 34ms/step - loss: 0.1990 - accuracy: 0.9398 - val_loss: 0.4695 - val_accuracy: 0.8727\n",
            "Epoch 30/100\n",
            "125/125 [==============================] - 4s 34ms/step - loss: 0.1927 - accuracy: 0.9411 - val_loss: 0.4694 - val_accuracy: 0.8739\n",
            "Epoch 31/100\n",
            "125/125 [==============================] - 4s 34ms/step - loss: 0.1863 - accuracy: 0.9431 - val_loss: 0.4726 - val_accuracy: 0.8743\n",
            "Epoch 32/100\n",
            "125/125 [==============================] - 4s 34ms/step - loss: 0.1802 - accuracy: 0.9453 - val_loss: 0.4807 - val_accuracy: 0.8745\n",
            "Epoch 33/100\n",
            "125/125 [==============================] - 4s 34ms/step - loss: 0.1745 - accuracy: 0.9465 - val_loss: 0.4812 - val_accuracy: 0.8738\n",
            "Epoch 34/100\n",
            "125/125 [==============================] - 4s 34ms/step - loss: 0.1692 - accuracy: 0.9485 - val_loss: 0.4835 - val_accuracy: 0.8749\n",
            "Epoch 35/100\n",
            "125/125 [==============================] - 4s 34ms/step - loss: 0.1640 - accuracy: 0.9499 - val_loss: 0.4918 - val_accuracy: 0.8742\n",
            "Epoch 36/100\n",
            "125/125 [==============================] - 4s 34ms/step - loss: 0.1589 - accuracy: 0.9515 - val_loss: 0.4947 - val_accuracy: 0.8743\n",
            "Epoch 37/100\n",
            "125/125 [==============================] - 4s 34ms/step - loss: 0.1543 - accuracy: 0.9527 - val_loss: 0.4926 - val_accuracy: 0.8747\n",
            "Epoch 38/100\n",
            "125/125 [==============================] - 4s 35ms/step - loss: 0.1496 - accuracy: 0.9542 - val_loss: 0.5014 - val_accuracy: 0.8739\n",
            "Epoch 39/100\n",
            "125/125 [==============================] - 4s 34ms/step - loss: 0.1451 - accuracy: 0.9557 - val_loss: 0.5099 - val_accuracy: 0.8746\n",
            "Epoch 40/100\n",
            "125/125 [==============================] - 4s 34ms/step - loss: 0.1411 - accuracy: 0.9568 - val_loss: 0.5127 - val_accuracy: 0.8744\n",
            "Epoch 41/100\n",
            "125/125 [==============================] - 4s 34ms/step - loss: 0.1371 - accuracy: 0.9578 - val_loss: 0.5192 - val_accuracy: 0.8742\n",
            "Epoch 42/100\n",
            "125/125 [==============================] - 4s 35ms/step - loss: 0.1331 - accuracy: 0.9592 - val_loss: 0.5262 - val_accuracy: 0.8741\n",
            "Epoch 43/100\n",
            "125/125 [==============================] - 4s 34ms/step - loss: 0.1297 - accuracy: 0.9603 - val_loss: 0.5292 - val_accuracy: 0.8746\n",
            "Epoch 44/100\n",
            "125/125 [==============================] - 4s 34ms/step - loss: 0.1258 - accuracy: 0.9612 - val_loss: 0.5352 - val_accuracy: 0.8740\n",
            "Epoch 45/100\n",
            "125/125 [==============================] - 4s 34ms/step - loss: 0.1222 - accuracy: 0.9620 - val_loss: 0.5384 - val_accuracy: 0.8737\n",
            "Epoch 46/100\n",
            "125/125 [==============================] - 4s 34ms/step - loss: 0.1194 - accuracy: 0.9629 - val_loss: 0.5427 - val_accuracy: 0.8735\n",
            "Epoch 47/100\n",
            "125/125 [==============================] - 4s 35ms/step - loss: 0.1159 - accuracy: 0.9642 - val_loss: 0.5476 - val_accuracy: 0.8729\n",
            "Epoch 48/100\n",
            "125/125 [==============================] - 4s 34ms/step - loss: 0.1130 - accuracy: 0.9648 - val_loss: 0.5612 - val_accuracy: 0.8722\n",
            "Epoch 49/100\n",
            "125/125 [==============================] - 4s 34ms/step - loss: 0.1097 - accuracy: 0.9660 - val_loss: 0.5674 - val_accuracy: 0.8730\n",
            "Epoch 50/100\n",
            "125/125 [==============================] - 4s 34ms/step - loss: 0.1070 - accuracy: 0.9668 - val_loss: 0.5622 - val_accuracy: 0.8738\n",
            "Epoch 51/100\n",
            "125/125 [==============================] - 4s 34ms/step - loss: 0.1044 - accuracy: 0.9676 - val_loss: 0.5699 - val_accuracy: 0.8731\n",
            "Epoch 52/100\n",
            "125/125 [==============================] - 4s 35ms/step - loss: 0.1022 - accuracy: 0.9681 - val_loss: 0.5737 - val_accuracy: 0.8738\n",
            "Epoch 53/100\n",
            "125/125 [==============================] - 4s 35ms/step - loss: 0.0992 - accuracy: 0.9688 - val_loss: 0.5846 - val_accuracy: 0.8720\n",
            "Epoch 54/100\n",
            "125/125 [==============================] - 4s 35ms/step - loss: 0.0970 - accuracy: 0.9694 - val_loss: 0.5818 - val_accuracy: 0.8730\n",
            "Epoch 55/100\n",
            "125/125 [==============================] - 4s 35ms/step - loss: 0.0943 - accuracy: 0.9702 - val_loss: 0.5944 - val_accuracy: 0.8724\n",
            "Epoch 56/100\n",
            "125/125 [==============================] - 4s 35ms/step - loss: 0.0920 - accuracy: 0.9712 - val_loss: 0.5945 - val_accuracy: 0.8722\n",
            "Epoch 57/100\n",
            "125/125 [==============================] - 4s 35ms/step - loss: 0.0903 - accuracy: 0.9714 - val_loss: 0.6007 - val_accuracy: 0.8722\n",
            "Epoch 58/100\n",
            "125/125 [==============================] - 4s 34ms/step - loss: 0.0879 - accuracy: 0.9722 - val_loss: 0.6022 - val_accuracy: 0.8724\n",
            "Epoch 59/100\n",
            "125/125 [==============================] - 4s 34ms/step - loss: 0.0860 - accuracy: 0.9725 - val_loss: 0.6103 - val_accuracy: 0.8727\n",
            "Epoch 60/100\n",
            "125/125 [==============================] - 4s 35ms/step - loss: 0.0841 - accuracy: 0.9731 - val_loss: 0.6157 - val_accuracy: 0.8715\n",
            "Epoch 61/100\n",
            "125/125 [==============================] - 4s 35ms/step - loss: 0.0818 - accuracy: 0.9737 - val_loss: 0.6203 - val_accuracy: 0.8718\n",
            "Epoch 62/100\n",
            "125/125 [==============================] - 4s 35ms/step - loss: 0.0805 - accuracy: 0.9741 - val_loss: 0.6212 - val_accuracy: 0.8718\n",
            "Epoch 63/100\n",
            "125/125 [==============================] - 4s 34ms/step - loss: 0.0787 - accuracy: 0.9749 - val_loss: 0.6248 - val_accuracy: 0.8728\n",
            "Epoch 64/100\n",
            "125/125 [==============================] - 4s 35ms/step - loss: 0.0769 - accuracy: 0.9753 - val_loss: 0.6321 - val_accuracy: 0.8720\n",
            "Epoch 65/100\n",
            "125/125 [==============================] - 4s 35ms/step - loss: 0.0752 - accuracy: 0.9757 - val_loss: 0.6383 - val_accuracy: 0.8719\n",
            "Epoch 66/100\n",
            "125/125 [==============================] - 4s 34ms/step - loss: 0.0738 - accuracy: 0.9762 - val_loss: 0.6382 - val_accuracy: 0.8722\n",
            "Epoch 67/100\n",
            "125/125 [==============================] - 4s 35ms/step - loss: 0.0719 - accuracy: 0.9767 - val_loss: 0.6459 - val_accuracy: 0.8726\n",
            "Epoch 68/100\n",
            "125/125 [==============================] - 4s 35ms/step - loss: 0.0707 - accuracy: 0.9770 - val_loss: 0.6469 - val_accuracy: 0.8723\n",
            "Epoch 69/100\n",
            "125/125 [==============================] - 4s 35ms/step - loss: 0.0694 - accuracy: 0.9773 - val_loss: 0.6581 - val_accuracy: 0.8721\n",
            "Epoch 70/100\n",
            "125/125 [==============================] - 4s 34ms/step - loss: 0.0674 - accuracy: 0.9780 - val_loss: 0.6554 - val_accuracy: 0.8716\n",
            "Epoch 71/100\n",
            "125/125 [==============================] - 4s 34ms/step - loss: 0.0667 - accuracy: 0.9781 - val_loss: 0.6721 - val_accuracy: 0.8721\n",
            "Epoch 72/100\n",
            "125/125 [==============================] - 4s 35ms/step - loss: 0.0654 - accuracy: 0.9785 - val_loss: 0.6681 - val_accuracy: 0.8713\n",
            "Epoch 73/100\n",
            "125/125 [==============================] - 4s 34ms/step - loss: 0.0640 - accuracy: 0.9789 - val_loss: 0.6739 - val_accuracy: 0.8713\n",
            "Epoch 74/100\n",
            "125/125 [==============================] - 4s 34ms/step - loss: 0.0629 - accuracy: 0.9790 - val_loss: 0.6773 - val_accuracy: 0.8710\n",
            "Epoch 75/100\n",
            "125/125 [==============================] - 4s 35ms/step - loss: 0.0617 - accuracy: 0.9795 - val_loss: 0.6819 - val_accuracy: 0.8711\n",
            "Epoch 76/100\n",
            "125/125 [==============================] - 4s 35ms/step - loss: 0.0608 - accuracy: 0.9797 - val_loss: 0.6871 - val_accuracy: 0.8703\n",
            "Epoch 77/100\n",
            "125/125 [==============================] - 4s 35ms/step - loss: 0.0596 - accuracy: 0.9798 - val_loss: 0.6938 - val_accuracy: 0.8712\n",
            "Epoch 78/100\n",
            "125/125 [==============================] - 4s 35ms/step - loss: 0.0587 - accuracy: 0.9803 - val_loss: 0.6895 - val_accuracy: 0.8711\n",
            "Epoch 79/100\n",
            "125/125 [==============================] - 4s 35ms/step - loss: 0.0579 - accuracy: 0.9805 - val_loss: 0.6950 - val_accuracy: 0.8717\n",
            "Epoch 80/100\n",
            "125/125 [==============================] - 4s 35ms/step - loss: 0.0568 - accuracy: 0.9807 - val_loss: 0.7044 - val_accuracy: 0.8708\n",
            "Epoch 81/100\n",
            "125/125 [==============================] - 4s 34ms/step - loss: 0.0557 - accuracy: 0.9811 - val_loss: 0.7081 - val_accuracy: 0.8718\n",
            "Epoch 82/100\n",
            "125/125 [==============================] - 4s 34ms/step - loss: 0.0549 - accuracy: 0.9812 - val_loss: 0.7054 - val_accuracy: 0.8710\n",
            "Epoch 83/100\n",
            "125/125 [==============================] - 4s 34ms/step - loss: 0.0540 - accuracy: 0.9815 - val_loss: 0.7085 - val_accuracy: 0.8715\n",
            "Epoch 84/100\n",
            "125/125 [==============================] - 4s 35ms/step - loss: 0.0531 - accuracy: 0.9818 - val_loss: 0.7141 - val_accuracy: 0.8713\n",
            "Epoch 85/100\n",
            "125/125 [==============================] - 4s 35ms/step - loss: 0.0526 - accuracy: 0.9819 - val_loss: 0.7210 - val_accuracy: 0.8700\n",
            "Epoch 86/100\n",
            "125/125 [==============================] - 4s 34ms/step - loss: 0.0514 - accuracy: 0.9822 - val_loss: 0.7246 - val_accuracy: 0.8711\n",
            "Epoch 87/100\n",
            "125/125 [==============================] - 4s 35ms/step - loss: 0.0509 - accuracy: 0.9824 - val_loss: 0.7299 - val_accuracy: 0.8706\n",
            "Epoch 88/100\n",
            "125/125 [==============================] - 4s 34ms/step - loss: 0.0498 - accuracy: 0.9827 - val_loss: 0.7296 - val_accuracy: 0.8704\n",
            "Epoch 89/100\n",
            "125/125 [==============================] - 4s 35ms/step - loss: 0.0493 - accuracy: 0.9830 - val_loss: 0.7322 - val_accuracy: 0.8709\n",
            "Epoch 90/100\n",
            "125/125 [==============================] - 4s 35ms/step - loss: 0.0485 - accuracy: 0.9832 - val_loss: 0.7422 - val_accuracy: 0.8707\n",
            "Epoch 91/100\n",
            "125/125 [==============================] - 4s 35ms/step - loss: 0.0479 - accuracy: 0.9833 - val_loss: 0.7394 - val_accuracy: 0.8706\n",
            "Epoch 92/100\n",
            "125/125 [==============================] - 4s 35ms/step - loss: 0.0474 - accuracy: 0.9833 - val_loss: 0.7433 - val_accuracy: 0.8706\n",
            "Epoch 93/100\n",
            "125/125 [==============================] - 4s 34ms/step - loss: 0.0465 - accuracy: 0.9836 - val_loss: 0.7467 - val_accuracy: 0.8710\n",
            "Epoch 94/100\n",
            "125/125 [==============================] - 4s 35ms/step - loss: 0.0462 - accuracy: 0.9837 - val_loss: 0.7502 - val_accuracy: 0.8705\n",
            "Epoch 95/100\n",
            "125/125 [==============================] - 4s 35ms/step - loss: 0.0459 - accuracy: 0.9838 - val_loss: 0.7525 - val_accuracy: 0.8709\n",
            "Epoch 96/100\n",
            "125/125 [==============================] - 4s 35ms/step - loss: 0.0452 - accuracy: 0.9841 - val_loss: 0.7637 - val_accuracy: 0.8698\n",
            "Epoch 97/100\n",
            "125/125 [==============================] - 4s 35ms/step - loss: 0.0446 - accuracy: 0.9840 - val_loss: 0.7539 - val_accuracy: 0.8714\n",
            "Epoch 98/100\n",
            "125/125 [==============================] - 4s 35ms/step - loss: 0.0441 - accuracy: 0.9843 - val_loss: 0.7609 - val_accuracy: 0.8703\n",
            "Epoch 99/100\n",
            "125/125 [==============================] - 4s 35ms/step - loss: 0.0435 - accuracy: 0.9844 - val_loss: 0.7659 - val_accuracy: 0.8693\n",
            "Epoch 100/100\n",
            "125/125 [==============================] - 4s 35ms/step - loss: 0.0428 - accuracy: 0.9846 - val_loss: 0.7677 - val_accuracy: 0.8699\n"
          ],
          "name": "stdout"
        },
        {
          "output_type": "stream",
          "text": [
            "WARNING:absl:Found untraced functions such as lstm_cell_layer_call_and_return_conditional_losses, lstm_cell_layer_call_fn, lstm_cell_1_layer_call_and_return_conditional_losses, lstm_cell_1_layer_call_fn, lstm_cell_layer_call_fn while saving (showing 5 of 10). These functions will not be directly callable after loading.\n"
          ],
          "name": "stderr"
        },
        {
          "output_type": "stream",
          "text": [
            "INFO:tensorflow:Assets written to: s2s/assets\n"
          ],
          "name": "stdout"
        },
        {
          "output_type": "stream",
          "text": [
            "INFO:tensorflow:Assets written to: s2s/assets\n"
          ],
          "name": "stderr"
        }
      ]
    },
    {
      "cell_type": "markdown",
      "metadata": {
        "id": "KeO_bNCfgTqk"
      },
      "source": [
        "# Run inference (sampling)\n"
      ]
    },
    {
      "cell_type": "code",
      "metadata": {
        "id": "dwFhEaCFfGks"
      },
      "source": [
        "# encode input and retrieve initial decoder state\n",
        "# run one step of decoder with this initial state and a \"start of sequence\" token as target. Output will be the next target token.\n",
        "# Repeat with the current target token and current states\n",
        "# Define sampling models\n",
        "# Restore the model and construct the encoder and decoder.\n",
        "model = keras.models.load_model(\"s2s\")\n",
        "\n",
        "encoder_inputs = model.input[0]  # input_1\n",
        "encoder_outputs, state_h_enc, state_c_enc = model.layers[2].output  # lstm_1\n",
        "encoder_states = [state_h_enc, state_c_enc]\n",
        "encoder_model = keras.Model(encoder_inputs, encoder_states)\n",
        "\n",
        "decoder_inputs = model.input[1]  # input_2\n",
        "decoder_state_input_h = keras.Input(shape=(latent_dim,), name=\"input_3\")\n",
        "decoder_state_input_c = keras.Input(shape=(latent_dim,), name=\"input_4\")\n",
        "decoder_states_inputs = [decoder_state_input_h, decoder_state_input_c]\n",
        "decoder_lstm = model.layers[3]\n",
        "decoder_outputs, state_h_dec, state_c_dec = decoder_lstm(\n",
        "    decoder_inputs, initial_state=decoder_states_inputs\n",
        ")\n",
        "decoder_states = [state_h_dec, state_c_dec]\n",
        "decoder_dense = model.layers[4]\n",
        "decoder_outputs = decoder_dense(decoder_outputs)\n",
        "decoder_model = keras.Model(\n",
        "    [decoder_inputs] + decoder_states_inputs, [decoder_outputs] + decoder_states\n",
        ")\n",
        "\n",
        "# Reverse-lookup token index to decode sequences back to\n",
        "# something readable.\n",
        "reverse_input_char_index = dict((i, char) for char, i in input_token_index.items())\n",
        "reverse_target_char_index = dict((i, char) for char, i in target_token_index.items())\n",
        "\n",
        "\n",
        "def decode_sequence(input_seq):\n",
        "    # Encode the input as state vectors.\n",
        "    states_value = encoder_model.predict(input_seq)\n",
        "\n",
        "    # Generate empty target sequence of length 1.\n",
        "    target_seq = np.zeros((1, 1, num_decoder_tokens))\n",
        "    # Populate the first character of target sequence with the start character.\n",
        "    target_seq[0, 0, target_token_index[\"\\t\"]] = 1.0\n",
        "\n",
        "    # Sampling loop for a batch of sequences\n",
        "    # (to simplify, here we assume a batch of size 1).\n",
        "    stop_condition = False\n",
        "    decoded_sentence = \"\"\n",
        "    while not stop_condition:\n",
        "        output_tokens, h, c = decoder_model.predict([target_seq] + states_value)\n",
        "\n",
        "        # Sample a token\n",
        "        sampled_token_index = np.argmax(output_tokens[0, -1, :])\n",
        "        sampled_char = reverse_target_char_index[sampled_token_index]\n",
        "        decoded_sentence += sampled_char\n",
        "\n",
        "        # Exit condition: either hit max length\n",
        "        # or find stop character.\n",
        "        if sampled_char == \"\\n\" or len(decoded_sentence) > max_decoder_seq_length:\n",
        "            stop_condition = True\n",
        "\n",
        "        # Update the target sequence (of length 1).\n",
        "        target_seq = np.zeros((1, 1, num_decoder_tokens))\n",
        "        target_seq[0, 0, sampled_token_index] = 1.0\n",
        "\n",
        "        # Update states\n",
        "        states_value = [h, c]\n",
        "    return decoded_sentence"
      ],
      "execution_count": 10,
      "outputs": []
    },
    {
      "cell_type": "code",
      "metadata": {
        "colab": {
          "base_uri": "https://localhost:8080/"
        },
        "id": "Z7nxX60zfOZe",
        "outputId": "7a4669a6-09e0-4378-b947-cad62209f51d"
      },
      "source": [
        "for seq_index in range(20):\n",
        "    # Take one sequence (part of the training set)\n",
        "    # for trying out decoding.\n",
        "    input_seq = encoder_input_data[seq_index : seq_index + 1]\n",
        "    decoded_sentence = decode_sequence(input_seq)\n",
        "    print(\"-\")\n",
        "    print(\"Input sentence:\", input_texts[seq_index])\n",
        "    print(\"Decoded sentence:\", decoded_sentence)"
      ],
      "execution_count": 11,
      "outputs": [
        {
          "output_type": "stream",
          "text": [
            "-\n",
            "Input sentence: Go.\n",
            "Decoded sentence: Marche.\n",
            "\n",
            "-\n",
            "Input sentence: Go.\n",
            "Decoded sentence: Marche.\n",
            "\n",
            "-\n",
            "Input sentence: Go.\n",
            "Decoded sentence: Marche.\n",
            "\n",
            "-\n",
            "Input sentence: Hi.\n",
            "Decoded sentence: Salut !\n",
            "\n",
            "-\n",
            "Input sentence: Hi.\n",
            "Decoded sentence: Salut !\n",
            "\n",
            "-\n",
            "Input sentence: Run!\n",
            "Decoded sentence: Filez !\n",
            "\n",
            "-\n",
            "Input sentence: Run!\n",
            "Decoded sentence: Filez !\n",
            "\n",
            "-\n",
            "Input sentence: Run!\n",
            "Decoded sentence: Filez !\n",
            "\n",
            "-\n",
            "Input sentence: Run!\n",
            "Decoded sentence: Filez !\n",
            "\n",
            "-\n",
            "Input sentence: Run!\n",
            "Decoded sentence: Filez !\n",
            "\n",
            "-\n",
            "Input sentence: Run!\n",
            "Decoded sentence: Filez !\n",
            "\n",
            "-\n",
            "Input sentence: Run!\n",
            "Decoded sentence: Filez !\n",
            "\n",
            "-\n",
            "Input sentence: Run!\n",
            "Decoded sentence: Filez !\n",
            "\n",
            "-\n",
            "Input sentence: Run.\n",
            "Decoded sentence: File !\n",
            "\n",
            "-\n",
            "Input sentence: Run.\n",
            "Decoded sentence: File !\n",
            "\n",
            "-\n",
            "Input sentence: Run.\n",
            "Decoded sentence: File !\n",
            "\n",
            "-\n",
            "Input sentence: Run.\n",
            "Decoded sentence: File !\n",
            "\n",
            "-\n",
            "Input sentence: Run.\n",
            "Decoded sentence: File !\n",
            "\n",
            "-\n",
            "Input sentence: Run.\n",
            "Decoded sentence: File !\n",
            "\n",
            "-\n",
            "Input sentence: Run.\n",
            "Decoded sentence: File !\n",
            "\n"
          ],
          "name": "stdout"
        }
      ]
    }
  ]
}